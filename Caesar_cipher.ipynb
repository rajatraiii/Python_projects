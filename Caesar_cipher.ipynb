{
  "nbformat": 4,
  "nbformat_minor": 0,
  "metadata": {
    "colab": {
      "provenance": []
    },
    "kernelspec": {
      "name": "python3",
      "display_name": "Python 3"
    },
    "language_info": {
      "name": "python"
    }
  },
  "cells": [
    {
      "cell_type": "code",
      "execution_count": 2,
      "metadata": {
        "colab": {
          "base_uri": "https://localhost:8080/"
        },
        "id": "w_KbzPc9Frl_",
        "outputId": "7ffb642e-8b7c-4a76-8a1c-86c18b9eb892"
      },
      "outputs": [
        {
          "output_type": "stream",
          "name": "stdout",
          "text": [
            "Type 'encode' to encrypt, type 'decode' to decrypt:\n",
            "decode\n",
            "Type your message:\n",
            "mjqqt\n",
            "Type the shift number:\n",
            "5\n",
            "The decoded text is hello\n"
          ]
        }
      ],
      "source": [
        "alphabet=[\"a\",\"b\",\"c\",\"d\",\"e\",\"f\",\"g\",\"h\",\"i\",\"j\",\"k\",\"l\",\"m\",\"n\",\"o\",\"p\",\"q\",\"r\",\"s\",\"t\",\"u\",\"v\",\"w\",\"x\",\"y\",\"z\",\"a\",\"b\",\"c\",\"d\",\"e\",\"f\",\"f\",\"g\",\"h\",\"i\",\"j\",\"k\",\"l\",\"m\",\"n\",\"o\",\"p\",\"q\",\"r\",\"s\",\"t\",\"u\",\"v\",\"w\",\"x\",\"y\",\"z\"]\n",
        "\n",
        "direction=input(\"Type 'encode' to encrypt, type 'decode' to decrypt:\\n\").lower()\n",
        "text=input(\"Type your message:\\n\").lower()\n",
        "shift=int(input(\"Type the shift number:\\n\"))\n",
        "\n",
        "def caesar(start_text,shift_amount,cipher_direction):\n",
        "  end_text=\"\"\n",
        "  if cipher_direction==\"decode\":\n",
        "      shift_amount*=-1\n",
        "  for letter in start_text:\n",
        "    position=alphabet.index(letter)\n",
        "    new_position=position+shift_amount\n",
        "    end_text+=alphabet[new_position]\n",
        "  print(f\"The {cipher_direction}d text is {end_text}\")\n",
        "\n",
        "caesar(start_text=text,shift_amount=shift,cipher_direction=direction)"
      ]
    },
    {
      "cell_type": "code",
      "source": [],
      "metadata": {
        "id": "TzXMGFdxFs9C"
      },
      "execution_count": null,
      "outputs": []
    }
  ]
}
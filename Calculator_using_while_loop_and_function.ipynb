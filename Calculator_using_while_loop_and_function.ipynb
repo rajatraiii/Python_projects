{
  "cells": [
    {
      "cell_type": "code",
      "source": [
        "def add(a1,b1):\n",
        "  return a1+b1\n",
        "\n",
        "def substract(a1,b1):\n",
        "  return a1-b1\n",
        "\n",
        "def multiply(a1,b1):\n",
        "  return a1*b1\n",
        "\n",
        "def divide(a1,b1):\n",
        "  return a1/b1\n",
        "\n",
        "def remind(a1,b1):\n",
        "  return a1%b1\n",
        "\n",
        "operations={\n",
        "    \"+\": add,\n",
        "    \"-\": substract,\n",
        "    \"*\": multiply ,\n",
        "    \"/\": divide ,\n",
        "\n",
        "}\n",
        "\n",
        "def calculator():\n",
        "  num1=int(input(\"enter the first number:\"))\n",
        "  for symbol in operations:\n",
        "    print(symbol)\n",
        "  should_continue=True\n",
        "\n",
        "\n",
        "  while should_continue:\n",
        "    operation_symbol=input(\"choose the symbol from above line:\")\n",
        "    num2=int(input(\"enter the second number:\"))\n",
        "    calculation_function=operations[operation_symbol]\n",
        "    answer=calculation_function(num1,num2)\n",
        "\n",
        "    print(f\"{num1} {operation_symbol} {num2} = {answer}\")\n",
        "\n",
        "    if input(f\"type 'y' to continue calculating with {answer}, or type 'n' to start a new calculation: \") == \"y\":\n",
        "      num1 = answer\n",
        "    else:\n",
        "      should_continue=False\n",
        "      calculator()\n",
        "\n",
        "calculator()"
      ],
      "metadata": {
        "colab": {
          "base_uri": "https://localhost:8080/"
        },
        "id": "MGSWQ9KbtCQU",
        "outputId": "56e7ee77-577e-48e1-afe9-7887ef617df0"
      },
      "id": "MGSWQ9KbtCQU",
      "execution_count": null,
      "outputs": [
        {
          "output_type": "stream",
          "name": "stdout",
          "text": [
            "enter the first number:399\n",
            "+\n",
            "-\n",
            "*\n",
            "/\n",
            "choose the symbol from above line:*\n",
            "enter the second number:62\n",
            "399 * 62 = 24738\n",
            "type 'y' to continue calculating with 24738, or type 'n' to start a new calculation: y\n",
            "choose the symbol from above line:+\n",
            "enter the second number:736\n",
            "24738 + 736 = 25474\n",
            "type 'y' to continue calculating with 25474, or type 'n' to start a new calculation: y\n",
            "choose the symbol from above line:-\n",
            "enter the second number:8373\n",
            "25474 - 8373 = 17101\n",
            "type 'y' to continue calculating with 17101, or type 'n' to start a new calculation: y\n",
            "choose the symbol from above line:/\n",
            "enter the second number:1728\n",
            "17101 / 1728 = 9.896412037037036\n",
            "type 'y' to continue calculating with 9.896412037037036, or type 'n' to start a new calculation: n\n",
            "enter the first number:55\n",
            "+\n",
            "-\n",
            "*\n",
            "/\n",
            "choose the symbol from above line:*\n",
            "enter the second number:2\n",
            "55 * 2 = 110\n"
          ]
        }
      ]
    },
    {
      "cell_type": "code",
      "source": [],
      "metadata": {
        "id": "HMTDJIp_t2GO"
      },
      "id": "HMTDJIp_t2GO",
      "execution_count": null,
      "outputs": []
    }
  ],
  "metadata": {
    "kernelspec": {
      "display_name": "Python 3 (ipykernel)",
      "language": "python",
      "name": "python3"
    },
    "language_info": {
      "codemirror_mode": {
        "name": "ipython",
        "version": 3
      },
      "file_extension": ".py",
      "mimetype": "text/x-python",
      "name": "python",
      "nbconvert_exporter": "python",
      "pygments_lexer": "ipython3",
      "version": "3.9.7"
    },
    "colab": {
      "provenance": []
    }
  },
  "nbformat": 4,
  "nbformat_minor": 5
}
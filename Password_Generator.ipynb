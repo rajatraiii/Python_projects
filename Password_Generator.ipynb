{
  "nbformat": 4,
  "nbformat_minor": 0,
  "metadata": {
    "colab": {
      "provenance": [],
      "authorship_tag": "ABX9TyO1l0RPrfgcg0zbWORk8OT3",
      "include_colab_link": true
    },
    "kernelspec": {
      "name": "python3",
      "display_name": "Python 3"
    },
    "language_info": {
      "name": "python"
    }
  },
  "cells": [
    {
      "cell_type": "markdown",
      "metadata": {
        "id": "view-in-github",
        "colab_type": "text"
      },
      "source": [
        "<a href=\"https://colab.research.google.com/github/rajatraiii/Python_projects/blob/main/Password_Generator.ipynb\" target=\"_parent\"><img src=\"https://colab.research.google.com/assets/colab-badge.svg\" alt=\"Open In Colab\"/></a>"
      ]
    },
    {
      "cell_type": "code",
      "source": [
        "import random\n",
        "\n",
        "letters=[\"a\",\"b\",\"c\",\"d\",\"e\",\"f\",\"f\",\"g\",\"h\",\"i\",\"j\",\"k\",\"l\",\"m\",\"n\",\"o\",\"p\",\"q\",\"r\",\"s\",\"t\",\"u\",\"v\",\"w\",\"x\",\"y\",\"z\",\"A\",\"B\",\"C\",\"D\",\"E\",\"F\",\"G\",\"H\",\"I\",\"J\",\"K\",\"L\",\"M\",\"N\",\"O\",\"P\",\"Q\",\"R\",\"S\",\"T\",\"U\",\"V\",\"W\",\"X\",\"Y\",\"Z\"]\n",
        "numbers=[\"0\",\"1\",\"2\",\"3\",\"4\",\"5\",\"6\",\"7\",\"8\",\"9\"]\n",
        "symbols=[\"!\",\"@\",\"#\",\"$\",\"%\",\"^\",\"&\",\"(\",\")\"]\n",
        "\n",
        "print(\"welcome to the password Generator\")\n",
        "nr_letters=int(input(\"How many letters would you like in your password?\\n\"))\n",
        "nr_numbers=int(input(\"How many numbers you would like in your password?\\n\"))\n",
        "nr_symbols=int(input(\"How many symbols would you like in your password?\\n\"))\n",
        "\n",
        "password_list=[]\n",
        "\n",
        "for char in range(1,nr_letters +1):\n",
        "  password_list+=random.choice(letters)\n",
        "\n",
        "for char in range(1,nr_numbers +1):\n",
        "  password_list+=random.choice(numbers)\n",
        "\n",
        "for char in range(1,nr_symbols +1):\n",
        "  password_list+=random.choice(symbols)\n",
        "\n",
        "random.shuffle(password_list)\n",
        "\n",
        "password=\"\"\n",
        "for char in password_list:\n",
        "  password+=char\n",
        "\n",
        "print(f\"your password is {password}\")"
      ],
      "metadata": {
        "id": "E28TUxdb_5Km",
        "colab": {
          "base_uri": "https://localhost:8080/"
        },
        "outputId": "b8a4648c-8e81-46bb-874b-1a106bf15992"
      },
      "execution_count": 18,
      "outputs": [
        {
          "output_type": "stream",
          "name": "stdout",
          "text": [
            "welcome to the password Generator\n",
            "How many letters would you like in your password?\n",
            "12\n",
            "How many numbers you would like in your password?\n",
            "8\n",
            "How many symbols would you like in your password?\n",
            "7\n",
            "your password is AZ)!!@2Ey8N8&OCKX18k9@Gw5#8\n"
          ]
        }
      ]
    }
  ]
}